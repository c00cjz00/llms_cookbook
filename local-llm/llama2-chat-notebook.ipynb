{
 "cells": [
  {
   "cell_type": "code",
   "execution_count": null,
   "id": "25612689-3184-4601-bb6c-0ec41bd60038",
   "metadata": {
    "tags": []
   },
   "outputs": [],
   "source": [
    "# change kernel to Python 3 (ipykernel)"
   ]
  },
  {
   "cell_type": "code",
   "execution_count": 1,
   "id": "36689a7a-7585-4bb3-bb22-664efa960184",
   "metadata": {
    "tags": []
   },
   "outputs": [
    {
     "name": "stdout",
     "output_type": "stream",
     "text": [
      "ssh -L 8000:gpn3001:8000 g00cjz00@t3-c4.nchc.org.tw\n"
     ]
    }
   ],
   "source": [
    "# ssh forwarding指令\n",
    "!echo ssh -L 8000:$(hostname -s):8000 $(whoami)@t3-c4.nchc.org.tw"
   ]
  },
  {
   "cell_type": "code",
   "execution_count": 2,
   "id": "33e86c77-4478-4800-af59-8b29604415a0",
   "metadata": {
    "tags": []
   },
   "outputs": [],
   "source": [
    "# kernel Image_pytorch_2.1.0-cuda11.8-cudnn8-devel"
   ]
  },
  {
   "cell_type": "code",
   "execution_count": 3,
   "id": "b473aaa1-f6cd-4f96-9acd-8d9a9f0f1d19",
   "metadata": {
    "tags": []
   },
   "outputs": [
    {
     "name": "stdout",
     "output_type": "stream",
     "text": [
      "python3.10  python3.8\n"
     ]
    }
   ],
   "source": [
    "# 套件目錄\n",
    "!ls ~/.local/lib"
   ]
  },
  {
   "cell_type": "code",
   "execution_count": 4,
   "id": "d58331ab-d493-42de-b74e-860d0d18cb13",
   "metadata": {
    "tags": []
   },
   "outputs": [],
   "source": [
    "# 新增可讀取套件安裝位置\n",
    "import os\n",
    "from pathlib import Path\n",
    "HOME = str(Path.home())\n",
    "Add_Binarry_Path=HOME+'/.local/bin'\n",
    "os.environ['PATH']=Add_Binarry_Path+':'+os.environ['PATH']"
   ]
  },
  {
   "cell_type": "code",
   "execution_count": null,
   "id": "056d2928-b72c-46ec-8051-86749debbc13",
   "metadata": {
    "tags": []
   },
   "outputs": [],
   "source": [
    "# 安裝套件\n",
    "!pip install langchain chainlit transformers IProgress ipywidgets accelerate -q"
   ]
  },
  {
   "cell_type": "code",
   "execution_count": null,
   "id": "f04bcc9c-ba02-4a77-96e8-d5bad6c41c60",
   "metadata": {
    "tags": []
   },
   "outputs": [],
   "source": [
    "# 安裝套件 GPTQ\n",
    "!pip install optimum -q\n",
    "!pip install auto-gptq --extra-index-url https://huggingface.github.io/autogptq-index/whl/cu118/  -q # Use cu117 if on CUDA 11.7"
   ]
  },
  {
   "cell_type": "code",
   "execution_count": null,
   "id": "b229218e-6208-4c8b-9fab-199a558b05c9",
   "metadata": {
    "tags": []
   },
   "outputs": [],
   "source": [
    "# 確認套件是否完全安裝\n",
    "from langchain.llms import HuggingFacePipeline\n",
    "from transformers import AutoTokenizer, TextStreamer\n",
    "from langchain import PromptTemplate, LLMChain\n",
    "import transformers\n",
    "import torch\n",
    "\n",
    "import chainlit as cl\n",
    "from chainlit.playground.config import add_llm_provider\n",
    "from chainlit.playground.providers.langchain import LangchainGenericProvider"
   ]
  },
  {
   "cell_type": "code",
   "execution_count": null,
   "id": "a8055ee3-daa6-4d84-b707-2ae856887cfc",
   "metadata": {
    "tags": []
   },
   "outputs": [],
   "source": [
    "# 確認套件是否完全安裝 GPTQ\n",
    "from langchain.llms import HuggingFacePipeline\n",
    "from transformers import AutoTokenizer, TextStreamer\n",
    "from langchain import PromptTemplate, LLMChain\n",
    "import transformers\n",
    "import torch\n",
    "from transformers import AutoModelForCausalLM, pipeline\n",
    "\n",
    "import chainlit as cl\n",
    "from chainlit.playground.config import add_llm_provider\n",
    "from chainlit.playground.providers.langchain import LangchainGenericProvider"
   ]
  },
  {
   "cell_type": "code",
   "execution_count": 9,
   "id": "5cd94f57-121c-46f5-8f7b-4e76a40cce71",
   "metadata": {
    "tags": []
   },
   "outputs": [
    {
     "name": "stdout",
     "output_type": "stream",
     "text": [
      "kill: (234654): No such process\n"
     ]
    }
   ],
   "source": [
    "# 刪除已啟動之chainlit 服務\n",
    "!ps -ef |grep chainlit  | awk '{print $2}' | xargs kill -9"
   ]
  },
  {
   "cell_type": "code",
   "execution_count": null,
   "id": "b47da5cf-c8a3-4e93-a44f-5a70ae77b28e",
   "metadata": {
    "tags": []
   },
   "outputs": [],
   "source": [
    "# 啟動連線\n",
    "#ssh -L 8000:gpn3001:8000 g00cjz00@t3-c4.nchc.org.tw\n",
    "!chainlit run llama2-chat.py"
   ]
  },
  {
   "cell_type": "code",
   "execution_count": 10,
   "id": "7bb9aa83-86be-4421-807e-c5d0b7ab0f41",
   "metadata": {},
   "outputs": [
    {
     "name": "stdout",
     "output_type": "stream",
     "text": [
      "/home/g00cjz00/.local/lib/python3.10/site-packages/langchain/__init__.py:34: UserWarning: Importing PromptTemplate from langchain root module is no longer supported. Please use langchain.prompts.PromptTemplate instead.\n",
      "  warnings.warn(\n",
      "/home/g00cjz00/.local/lib/python3.10/site-packages/langchain/__init__.py:34: UserWarning: Importing LLMChain from langchain root module is no longer supported. Please use langchain.chains.LLMChain instead.\n",
      "  warnings.warn(\n",
      "2023-11-19 11:11:11 - We will use 90% of the memory on device 0 for storing the model, and 10% for the buffer to avoid OOM. You can set `max_memory` in to a higher value to use more memory (at your own risk).\n",
      "2023-11-19 11:11:16 - Your app is available at http://localhost:8000\n",
      "/home/g00cjz00/.local/lib/python3.10/site-packages/transformers/generation/utils.py:1473: UserWarning: You have modified the pretrained model configuration to control generation. This is a deprecated strategy to control generation and will be removed soon, in a future version. Please use and modify the model generation configuration (see https://huggingface.co/docs/transformers/generation_strategies#default-text-generation-configuration )\n",
      "  warnings.warn(\n",
      "\n",
      "唐鳳 is a famous Chinese poet, writer, and translator. He is known for his lyrical poetry and his contributions to the development of Chinese literature.\n",
      "\n",
      "Here are some key details about 唐鳳:\n",
      "\n",
      "* Born: 812 AD, in Chang'an (modern-day Xi'an, Shaanxi province)\n",
      "* Died: 839 AD, in Chang'an\n",
      "* Best known for: His poem \"蝉响\" (The Cricket's Song) is one of his most famous works.\n",
      "* Influences: Tang Fu, Bai Juyi, and Li Bai.\n",
      "* Other works: 唐鳳 is also known for his translation of the Indian epic poem, the Mahabharata, into Chinese.\n",
      "* Awards: 唐鳳 was awarded the title of \"Imperial Poet\" by the Emperor of the Tang Dynasty for his contributions to literature.\n",
      "* Legacy: 唐鳳's poetry is still widely studied and admired in China today, and he is considered one of the greatest poets of the Tang Dynasty.</s>\n",
      "```\n",
      "importcv2\n",
      "import numpy as np\n",
      "import matplotlib.pyplot as plt\n",
      "\n",
      "class Classification:\n",
      "   def __init__(self, dataset, labels):\n",
      "       self.dataset = dataset\n",
      "       self.labels = labels\n",
      "   \n",
      "   def classify(self, image):\n",
      "       # Convert the image to grayscale\n",
      "       gray = cv2.cvtColor(image, cv2.COLOR_BGR2GRAY)\n",
      "   \n",
      "       # Compute the histogram of the image\n",
      "       hist = cv2.histogram(gray, 256, None, cv2.HIST_EQUAL)\n",
      "   \n",
      "       # Normalize the histogram\n",
      "       normalized_hist = cv2.normalizeHist(hist, None, cv2.HIST_EQUAL)\n",
      "   \n",
      "       # Get the probability distributions for each class\n",
      "       class_probs = cv2.classifyHist(normalized_hist, self.labels, None, cv2.Cлаssify_auto)\n",
      "   \n",
      "       # Print the probabilities for each class\n",
      "       for label in class_probs:\n",
      "           print(f\"{label}: {class_probs[label]}\")\n",
      "\n",
      "# Load the dataset\n",
      "dataset = \"path/to/image/dataset.csv\"\n",
      "# Create a new Classification object\n",
      "classifier = Classification(dataset, np.array([\"Class 1\", \"Class 2\", \"Class 3\"]))\n",
      "# Load the image\n",
      "img = cv2.imread(\"path/to/image.jpg\")\n",
      "# Classify the image\n",
      "results = classifier.classify(img)\n",
      "\n",
      "# Print the classified result\n",
      "print(results)\n",
      "```\n",
      "This code will classify an image into one of three classes using a Python script. It will first load a dataset of images and their corresponding labels, and then use this dataset to compute the probability distributions for each class. Finally, it will take an image as input and use the probability distributions to classify it into one of the three classes.\n",
      "Note that this code assumes that the labels are stored in a CSV file and that the dataset contains a single image per row. If your dataset has a different structure, you will need to modify the code accordingly.\n",
      "Also, this code only demonstrates the basic idea of image classification using Python. For a more detailed and efficient implementation, you may want to consider using a machine learning library such as scikit-learn or TensorFlow.</s>\n"
     ]
    },
    {
     "ename": "KeyboardInterrupt",
     "evalue": "",
     "output_type": "error",
     "traceback": [
      "\u001b[0;31m---------------------------------------------------------------------------\u001b[0m",
      "\u001b[0;31mKeyboardInterrupt\u001b[0m                         Traceback (most recent call last)",
      "File \u001b[0;32m/opt/conda/lib/python3.10/site-packages/IPython/utils/_process_posix.py:153\u001b[0m, in \u001b[0;36mProcessHandler.system\u001b[0;34m(self, cmd)\u001b[0m\n\u001b[1;32m    150\u001b[0m \u001b[38;5;28;01mwhile\u001b[39;00m \u001b[38;5;28;01mTrue\u001b[39;00m:\n\u001b[1;32m    151\u001b[0m     \u001b[38;5;66;03m# res is the index of the pattern that caused the match, so we\u001b[39;00m\n\u001b[1;32m    152\u001b[0m     \u001b[38;5;66;03m# know whether we've finished (if we matched EOF) or not\u001b[39;00m\n\u001b[0;32m--> 153\u001b[0m     res_idx \u001b[38;5;241m=\u001b[39m \u001b[43mchild\u001b[49m\u001b[38;5;241;43m.\u001b[39;49m\u001b[43mexpect_list\u001b[49m\u001b[43m(\u001b[49m\u001b[43mpatterns\u001b[49m\u001b[43m,\u001b[49m\u001b[43m \u001b[49m\u001b[38;5;28;43mself\u001b[39;49m\u001b[38;5;241;43m.\u001b[39;49m\u001b[43mread_timeout\u001b[49m\u001b[43m)\u001b[49m\n\u001b[1;32m    154\u001b[0m     \u001b[38;5;28mprint\u001b[39m(child\u001b[38;5;241m.\u001b[39mbefore[out_size:]\u001b[38;5;241m.\u001b[39mdecode(enc, \u001b[38;5;124m'\u001b[39m\u001b[38;5;124mreplace\u001b[39m\u001b[38;5;124m'\u001b[39m), end\u001b[38;5;241m=\u001b[39m\u001b[38;5;124m'\u001b[39m\u001b[38;5;124m'\u001b[39m)\n",
      "File \u001b[0;32m/opt/conda/lib/python3.10/site-packages/pexpect/spawnbase.py:372\u001b[0m, in \u001b[0;36mSpawnBase.expect_list\u001b[0;34m(self, pattern_list, timeout, searchwindowsize, async_, **kw)\u001b[0m\n\u001b[1;32m    371\u001b[0m \u001b[38;5;28;01melse\u001b[39;00m:\n\u001b[0;32m--> 372\u001b[0m     \u001b[38;5;28;01mreturn\u001b[39;00m \u001b[43mexp\u001b[49m\u001b[38;5;241;43m.\u001b[39;49m\u001b[43mexpect_loop\u001b[49m\u001b[43m(\u001b[49m\u001b[43mtimeout\u001b[49m\u001b[43m)\u001b[49m\n",
      "File \u001b[0;32m/opt/conda/lib/python3.10/site-packages/pexpect/expect.py:169\u001b[0m, in \u001b[0;36mExpecter.expect_loop\u001b[0;34m(self, timeout)\u001b[0m\n\u001b[1;32m    168\u001b[0m \u001b[38;5;66;03m# Still have time left, so read more data\u001b[39;00m\n\u001b[0;32m--> 169\u001b[0m incoming \u001b[38;5;241m=\u001b[39m \u001b[43mspawn\u001b[49m\u001b[38;5;241;43m.\u001b[39;49m\u001b[43mread_nonblocking\u001b[49m\u001b[43m(\u001b[49m\u001b[43mspawn\u001b[49m\u001b[38;5;241;43m.\u001b[39;49m\u001b[43mmaxread\u001b[49m\u001b[43m,\u001b[49m\u001b[43m \u001b[49m\u001b[43mtimeout\u001b[49m\u001b[43m)\u001b[49m\n\u001b[1;32m    170\u001b[0m \u001b[38;5;28;01mif\u001b[39;00m \u001b[38;5;28mself\u001b[39m\u001b[38;5;241m.\u001b[39mspawn\u001b[38;5;241m.\u001b[39mdelayafterread \u001b[38;5;129;01mis\u001b[39;00m \u001b[38;5;129;01mnot\u001b[39;00m \u001b[38;5;28;01mNone\u001b[39;00m:\n",
      "File \u001b[0;32m/opt/conda/lib/python3.10/site-packages/pexpect/pty_spawn.py:500\u001b[0m, in \u001b[0;36mspawn.read_nonblocking\u001b[0;34m(self, size, timeout)\u001b[0m\n\u001b[1;32m    497\u001b[0m \u001b[38;5;66;03m# Because of the select(0) check above, we know that no data\u001b[39;00m\n\u001b[1;32m    498\u001b[0m \u001b[38;5;66;03m# is available right now. But if a non-zero timeout is given\u001b[39;00m\n\u001b[1;32m    499\u001b[0m \u001b[38;5;66;03m# (possibly timeout=None), we call select() with a timeout.\u001b[39;00m\n\u001b[0;32m--> 500\u001b[0m \u001b[38;5;28;01mif\u001b[39;00m (timeout \u001b[38;5;241m!=\u001b[39m \u001b[38;5;241m0\u001b[39m) \u001b[38;5;129;01mand\u001b[39;00m \u001b[43mselect\u001b[49m\u001b[43m(\u001b[49m\u001b[43mtimeout\u001b[49m\u001b[43m)\u001b[49m:\n\u001b[1;32m    501\u001b[0m     \u001b[38;5;28;01mreturn\u001b[39;00m \u001b[38;5;28msuper\u001b[39m(spawn, \u001b[38;5;28mself\u001b[39m)\u001b[38;5;241m.\u001b[39mread_nonblocking(size)\n",
      "File \u001b[0;32m/opt/conda/lib/python3.10/site-packages/pexpect/pty_spawn.py:450\u001b[0m, in \u001b[0;36mspawn.read_nonblocking.<locals>.select\u001b[0;34m(timeout)\u001b[0m\n\u001b[1;32m    449\u001b[0m \u001b[38;5;28;01mdef\u001b[39;00m \u001b[38;5;21mselect\u001b[39m(timeout):\n\u001b[0;32m--> 450\u001b[0m     \u001b[38;5;28;01mreturn\u001b[39;00m \u001b[43mselect_ignore_interrupts\u001b[49m\u001b[43m(\u001b[49m\u001b[43m[\u001b[49m\u001b[38;5;28;43mself\u001b[39;49m\u001b[38;5;241;43m.\u001b[39;49m\u001b[43mchild_fd\u001b[49m\u001b[43m]\u001b[49m\u001b[43m,\u001b[49m\u001b[43m \u001b[49m\u001b[43m[\u001b[49m\u001b[43m]\u001b[49m\u001b[43m,\u001b[49m\u001b[43m \u001b[49m\u001b[43m[\u001b[49m\u001b[43m]\u001b[49m\u001b[43m,\u001b[49m\u001b[43m \u001b[49m\u001b[43mtimeout\u001b[49m\u001b[43m)\u001b[49m[\u001b[38;5;241m0\u001b[39m]\n",
      "File \u001b[0;32m/opt/conda/lib/python3.10/site-packages/pexpect/utils.py:143\u001b[0m, in \u001b[0;36mselect_ignore_interrupts\u001b[0;34m(iwtd, owtd, ewtd, timeout)\u001b[0m\n\u001b[1;32m    142\u001b[0m \u001b[38;5;28;01mtry\u001b[39;00m:\n\u001b[0;32m--> 143\u001b[0m     \u001b[38;5;28;01mreturn\u001b[39;00m \u001b[43mselect\u001b[49m\u001b[38;5;241;43m.\u001b[39;49m\u001b[43mselect\u001b[49m\u001b[43m(\u001b[49m\u001b[43miwtd\u001b[49m\u001b[43m,\u001b[49m\u001b[43m \u001b[49m\u001b[43mowtd\u001b[49m\u001b[43m,\u001b[49m\u001b[43m \u001b[49m\u001b[43mewtd\u001b[49m\u001b[43m,\u001b[49m\u001b[43m \u001b[49m\u001b[43mtimeout\u001b[49m\u001b[43m)\u001b[49m\n\u001b[1;32m    144\u001b[0m \u001b[38;5;28;01mexcept\u001b[39;00m \u001b[38;5;167;01mInterruptedError\u001b[39;00m:\n",
      "\u001b[0;31mKeyboardInterrupt\u001b[0m: ",
      "\nDuring handling of the above exception, another exception occurred:\n",
      "\u001b[0;31mKeyboardInterrupt\u001b[0m                         Traceback (most recent call last)",
      "Cell \u001b[0;32mIn[10], line 3\u001b[0m\n\u001b[1;32m      1\u001b[0m \u001b[38;5;66;03m# 啟動連線\u001b[39;00m\n\u001b[1;32m      2\u001b[0m \u001b[38;5;66;03m#ssh -L 8000:gpn3001:8000 g00cjz00@t3-c4.nchc.org.tw\u001b[39;00m\n\u001b[0;32m----> 3\u001b[0m \u001b[43mget_ipython\u001b[49m\u001b[43m(\u001b[49m\u001b[43m)\u001b[49m\u001b[38;5;241;43m.\u001b[39;49m\u001b[43msystem\u001b[49m\u001b[43m(\u001b[49m\u001b[38;5;124;43m'\u001b[39;49m\u001b[38;5;124;43mchainlit run llama2-chat-gptq.py\u001b[39;49m\u001b[38;5;124;43m'\u001b[39;49m\u001b[43m)\u001b[49m\n",
      "File \u001b[0;32m~/.local/lib/python3.10/site-packages/ipykernel/zmqshell.py:658\u001b[0m, in \u001b[0;36mZMQInteractiveShell.system_piped\u001b[0;34m(self, cmd)\u001b[0m\n\u001b[1;32m    656\u001b[0m         \u001b[38;5;28mself\u001b[39m\u001b[38;5;241m.\u001b[39muser_ns[\u001b[38;5;124m\"\u001b[39m\u001b[38;5;124m_exit_code\u001b[39m\u001b[38;5;124m\"\u001b[39m] \u001b[38;5;241m=\u001b[39m system(cmd)\n\u001b[1;32m    657\u001b[0m \u001b[38;5;28;01melse\u001b[39;00m:\n\u001b[0;32m--> 658\u001b[0m     \u001b[38;5;28mself\u001b[39m\u001b[38;5;241m.\u001b[39muser_ns[\u001b[38;5;124m\"\u001b[39m\u001b[38;5;124m_exit_code\u001b[39m\u001b[38;5;124m\"\u001b[39m] \u001b[38;5;241m=\u001b[39m \u001b[43msystem\u001b[49m\u001b[43m(\u001b[49m\u001b[38;5;28;43mself\u001b[39;49m\u001b[38;5;241;43m.\u001b[39;49m\u001b[43mvar_expand\u001b[49m\u001b[43m(\u001b[49m\u001b[43mcmd\u001b[49m\u001b[43m,\u001b[49m\u001b[43m \u001b[49m\u001b[43mdepth\u001b[49m\u001b[38;5;241;43m=\u001b[39;49m\u001b[38;5;241;43m1\u001b[39;49m\u001b[43m)\u001b[49m\u001b[43m)\u001b[49m\n",
      "File \u001b[0;32m/opt/conda/lib/python3.10/site-packages/IPython/utils/_process_posix.py:164\u001b[0m, in \u001b[0;36mProcessHandler.system\u001b[0;34m(self, cmd)\u001b[0m\n\u001b[1;32m    159\u001b[0m         out_size \u001b[38;5;241m=\u001b[39m \u001b[38;5;28mlen\u001b[39m(child\u001b[38;5;241m.\u001b[39mbefore)\n\u001b[1;32m    160\u001b[0m \u001b[38;5;28;01mexcept\u001b[39;00m \u001b[38;5;167;01mKeyboardInterrupt\u001b[39;00m:\n\u001b[1;32m    161\u001b[0m     \u001b[38;5;66;03m# We need to send ^C to the process.  The ascii code for '^C' is 3\u001b[39;00m\n\u001b[1;32m    162\u001b[0m     \u001b[38;5;66;03m# (the character is known as ETX for 'End of Text', see\u001b[39;00m\n\u001b[1;32m    163\u001b[0m     \u001b[38;5;66;03m# curses.ascii.ETX).\u001b[39;00m\n\u001b[0;32m--> 164\u001b[0m     \u001b[43mchild\u001b[49m\u001b[38;5;241;43m.\u001b[39;49m\u001b[43msendline\u001b[49m\u001b[43m(\u001b[49m\u001b[38;5;28;43mchr\u001b[39;49m\u001b[43m(\u001b[49m\u001b[38;5;241;43m3\u001b[39;49m\u001b[43m)\u001b[49m\u001b[43m)\u001b[49m\n\u001b[1;32m    165\u001b[0m     \u001b[38;5;66;03m# Read and print any more output the program might produce on its\u001b[39;00m\n\u001b[1;32m    166\u001b[0m     \u001b[38;5;66;03m# way out.\u001b[39;00m\n\u001b[1;32m    167\u001b[0m     \u001b[38;5;28;01mtry\u001b[39;00m:\n",
      "File \u001b[0;32m/opt/conda/lib/python3.10/site-packages/pexpect/pty_spawn.py:578\u001b[0m, in \u001b[0;36mspawn.sendline\u001b[0;34m(self, s)\u001b[0m\n\u001b[1;32m    572\u001b[0m \u001b[38;5;250m\u001b[39m\u001b[38;5;124;03m'''Wraps send(), sending string ``s`` to child process, with\u001b[39;00m\n\u001b[1;32m    573\u001b[0m \u001b[38;5;124;03m``os.linesep`` automatically appended. Returns number of bytes\u001b[39;00m\n\u001b[1;32m    574\u001b[0m \u001b[38;5;124;03mwritten.  Only a limited number of bytes may be sent for each\u001b[39;00m\n\u001b[1;32m    575\u001b[0m \u001b[38;5;124;03mline in the default terminal mode, see docstring of :meth:`send`.\u001b[39;00m\n\u001b[1;32m    576\u001b[0m \u001b[38;5;124;03m'''\u001b[39;00m\n\u001b[1;32m    577\u001b[0m s \u001b[38;5;241m=\u001b[39m \u001b[38;5;28mself\u001b[39m\u001b[38;5;241m.\u001b[39m_coerce_send_string(s)\n\u001b[0;32m--> 578\u001b[0m \u001b[38;5;28;01mreturn\u001b[39;00m \u001b[38;5;28;43mself\u001b[39;49m\u001b[38;5;241;43m.\u001b[39;49m\u001b[43msend\u001b[49m\u001b[43m(\u001b[49m\u001b[43ms\u001b[49m\u001b[43m \u001b[49m\u001b[38;5;241;43m+\u001b[39;49m\u001b[43m \u001b[49m\u001b[38;5;28;43mself\u001b[39;49m\u001b[38;5;241;43m.\u001b[39;49m\u001b[43mlinesep\u001b[49m\u001b[43m)\u001b[49m\n",
      "File \u001b[0;32m/opt/conda/lib/python3.10/site-packages/pexpect/pty_spawn.py:563\u001b[0m, in \u001b[0;36mspawn.send\u001b[0;34m(self, s)\u001b[0m\n\u001b[1;32m    528\u001b[0m \u001b[38;5;250m\u001b[39m\u001b[38;5;124;03m'''Sends string ``s`` to the child process, returning the number of\u001b[39;00m\n\u001b[1;32m    529\u001b[0m \u001b[38;5;124;03mbytes written. If a logfile is specified, a copy is written to that\u001b[39;00m\n\u001b[1;32m    530\u001b[0m \u001b[38;5;124;03mlog.\u001b[39;00m\n\u001b[0;32m   (...)\u001b[0m\n\u001b[1;32m    559\u001b[0m \u001b[38;5;124;03m    >>> bash.sendline('x' * 5000)\u001b[39;00m\n\u001b[1;32m    560\u001b[0m \u001b[38;5;124;03m'''\u001b[39;00m\n\u001b[1;32m    562\u001b[0m \u001b[38;5;28;01mif\u001b[39;00m \u001b[38;5;28mself\u001b[39m\u001b[38;5;241m.\u001b[39mdelaybeforesend \u001b[38;5;129;01mis\u001b[39;00m \u001b[38;5;129;01mnot\u001b[39;00m \u001b[38;5;28;01mNone\u001b[39;00m:\n\u001b[0;32m--> 563\u001b[0m     \u001b[43mtime\u001b[49m\u001b[38;5;241;43m.\u001b[39;49m\u001b[43msleep\u001b[49m\u001b[43m(\u001b[49m\u001b[38;5;28;43mself\u001b[39;49m\u001b[38;5;241;43m.\u001b[39;49m\u001b[43mdelaybeforesend\u001b[49m\u001b[43m)\u001b[49m\n\u001b[1;32m    565\u001b[0m s \u001b[38;5;241m=\u001b[39m \u001b[38;5;28mself\u001b[39m\u001b[38;5;241m.\u001b[39m_coerce_send_string(s)\n\u001b[1;32m    566\u001b[0m \u001b[38;5;28mself\u001b[39m\u001b[38;5;241m.\u001b[39m_log(s, \u001b[38;5;124m'\u001b[39m\u001b[38;5;124msend\u001b[39m\u001b[38;5;124m'\u001b[39m)\n",
      "\u001b[0;31mKeyboardInterrupt\u001b[0m: "
     ]
    }
   ],
   "source": [
    "# 啟動連線\n",
    "#ssh -L 8000:gpn3001:8000 g00cjz00@t3-c4.nchc.org.tw\n",
    "!chainlit run llama2-chat-gptq.py"
   ]
  },
  {
   "cell_type": "code",
   "execution_count": null,
   "id": "5d8a5b4c-2bf9-4281-b3c8-842adb2a0b93",
   "metadata": {},
   "outputs": [],
   "source": []
  }
 ],
 "metadata": {
  "kernelspec": {
   "display_name": "Image_pytorch_2.1.0-cuda11.8-cudnn8-devel",
   "language": "python",
   "name": "pytorch_2.1.0-cuda11.8-cudnn8-devel"
  },
  "language_info": {
   "codemirror_mode": {
    "name": "ipython",
    "version": 3
   },
   "file_extension": ".py",
   "mimetype": "text/x-python",
   "name": "python",
   "nbconvert_exporter": "python",
   "pygments_lexer": "ipython3",
   "version": "3.10.13"
  }
 },
 "nbformat": 4,
 "nbformat_minor": 5
}
