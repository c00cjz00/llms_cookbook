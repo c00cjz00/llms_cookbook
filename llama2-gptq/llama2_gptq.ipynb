{
 "cells": [
  {
   "cell_type": "code",
   "execution_count": null,
   "id": "33e86c77-4478-4800-af59-8b29604415a0",
   "metadata": {
    "tags": []
   },
   "outputs": [],
   "source": [
    "# kernel Image_pytorch_2.1.0-cuda11.8-cudnn8-devel"
   ]
  },
  {
   "cell_type": "code",
   "execution_count": null,
   "id": "b473aaa1-f6cd-4f96-9acd-8d9a9f0f1d19",
   "metadata": {
    "tags": []
   },
   "outputs": [],
   "source": [
    "# 套件目錄\n",
    "!ls ~/.local/lib"
   ]
  },
  {
   "cell_type": "code",
   "execution_count": null,
   "id": "d58331ab-d493-42de-b74e-860d0d18cb13",
   "metadata": {
    "tags": []
   },
   "outputs": [],
   "source": [
    "# 新增可讀取套件安裝位置\n",
    "import os\n",
    "from pathlib import Path\n",
    "HOME = str(Path.home())\n",
    "Add_Binarry_Path=HOME+'/.local/bin'\n",
    "os.environ['PATH']=Add_Binarry_Path+':'+os.environ['PATH']"
   ]
  },
  {
   "cell_type": "code",
   "execution_count": null,
   "id": "056d2928-b72c-46ec-8051-86749debbc13",
   "metadata": {
    "tags": []
   },
   "outputs": [],
   "source": [
    "# 安裝套件\n",
    "!pip install xformers bitsandbytes sentence_transformers einops arxiv openai chromadb tiktoken pymupdf langchain chainlit transformers IProgress ipywidgets accelerate -q"
   ]
  },
  {
   "cell_type": "code",
   "execution_count": null,
   "id": "f04bcc9c-ba02-4a77-96e8-d5bad6c41c60",
   "metadata": {
    "tags": []
   },
   "outputs": [],
   "source": [
    "# 安裝套件 GPTQ\n",
    "!pip install langchain optimum  transformers IProgress ipywidgets accelerate -q\n",
    "!pip install auto-gptq --extra-index-url https://huggingface.github.io/autogptq-index/whl/cu118/  -q # Use cu117 if on CUDA 11.7"
   ]
  },
  {
   "cell_type": "code",
   "execution_count": null,
   "id": "635de404-dfaf-4f45-8ec4-cc775afbf618",
   "metadata": {
    "tags": []
   },
   "outputs": [],
   "source": [
    "from langchain.llms import HuggingFacePipeline\n",
    "# GPTQ\n",
    "from transformers import AutoModelForCausalLM, pipeline, AutoTokenizer, TextStreamer\n",
    "import transformers\n",
    "import torch"
   ]
  },
  {
   "cell_type": "code",
   "execution_count": null,
   "id": "a7d9953e-8f85-4f53-b542-4c556051c09c",
   "metadata": {
    "tags": []
   },
   "outputs": [],
   "source": [
    "def load_llama():\n",
    "    MODEL_ID = \"/work/u00cjz00/slurm_jobs/github/models/Llama-2-7B-Chat-GPTQ\"\n",
    "    model = AutoModelForCausalLM.from_pretrained(MODEL_ID, device_map=\"auto\")\n",
    "    tokenizer = AutoTokenizer.from_pretrained(MODEL_ID)\n",
    "    streamer = TextStreamer(tokenizer, skip_prompt=True)\n",
    "    pipeline = transformers.pipeline(\n",
    "        \"text-generation\",\n",
    "        model=model,\n",
    "        tokenizer=tokenizer,\n",
    "        torch_dtype=torch.float16,\n",
    "        trust_remote_code=True,\n",
    "        device_map=\"auto\",\n",
    "        max_length=1000,\n",
    "        do_sample=True,\n",
    "        top_k=10,\n",
    "        num_return_sequences=1,\n",
    "        eos_token_id=tokenizer.eos_token_id,\n",
    "        streamer=streamer,\n",
    "        #use_auth_token=True,\n",
    "    )\n",
    "\n",
    "    llm = HuggingFacePipeline(\n",
    "        pipeline=pipeline,\n",
    "        model_kwargs={\"temperature\": 0},\n",
    "    )\n",
    "    return llm\n",
    "\n",
    "\n",
    "llm = load_llama()"
   ]
  },
  {
   "cell_type": "code",
   "execution_count": null,
   "id": "fdd7ea27-4fda-4431-a6c2-accc5cd878a5",
   "metadata": {
    "tags": []
   },
   "outputs": [],
   "source": [
    "llm(prompt=\"Please explain what is the State of the Union address. Give just a definition. Keep it in 100 words.\")"
   ]
  },
  {
   "cell_type": "code",
   "execution_count": null,
   "id": "7895327f-2722-4747-b5d7-1e51a6a66319",
   "metadata": {},
   "outputs": [],
   "source": []
  }
 ],
 "metadata": {
  "kernelspec": {
   "display_name": "Image_pytorch_2.1.0-cuda11.8-cudnn8-devel",
   "language": "python",
   "name": "pytorch_2.1.0-cuda11.8-cudnn8-devel"
  },
  "language_info": {
   "codemirror_mode": {
    "name": "ipython",
    "version": 3
   },
   "file_extension": ".py",
   "mimetype": "text/x-python",
   "name": "python",
   "nbconvert_exporter": "python",
   "pygments_lexer": "ipython3",
   "version": "3.10.13"
  }
 },
 "nbformat": 4,
 "nbformat_minor": 5
}
